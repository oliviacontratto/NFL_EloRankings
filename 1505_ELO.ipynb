{
 "cells": [
  {
   "cell_type": "code",
   "execution_count": 4,
   "metadata": {},
   "outputs": [
    {
     "name": "stdout",
     "output_type": "stream",
     "text": [
      "{'PIT': 1542.4202637871315, 'TEN': 1518.549673664138, 'HOU': 1569.131343466702, 'NYJ': 1604.1764031354171, 'ARI': 1546.0444699164461, 'SF': 1521.805611406973, 'CLE': 1431.3495137646278, 'MIN': 1595.3276616653561, 'TB': 1393.1569752023252, 'DAL': 1636.561170170218, 'IND': 1604.1095707106003, 'JAX': 1420.8939033301667, 'NO': 1631.0483515649846, 'DET': 1285.0588068490495, 'ATL': 1541.2721717624377, 'MIA': 1459.0426814779494, 'NYG': 1471.3104631988572, 'WSH': 1398.9437091695745, 'BAL': 1567.8716495332089, 'KC': 1392.6465117670855, 'CIN': 1534.3936492443131, 'DEN': 1458.443470335721, 'GB': 1640.616801537635, 'CHI': 1467.5017844828824, 'SEA': 1377.9357024374187, 'LAR': 1290.095508703313, 'CAR': 1576.6704086533261, 'PHI': 1605.3577333306657, 'OAK': 1351.5231782309124, 'LAC': 1668.3026632602171, 'NE': 1591.2425337838963, 'BUF': 1467.19566045645}\n"
     ]
    }
   ],
   "source": [
    "import pandas as pd\n",
    "import numpy as np\n",
    "\n",
    "# Read in Data\n",
    "data538 = pd.read_csv('nfl_elo.csv')\n",
    "h = 65\n",
    "my_dict = {}\n",
    "\n",
    "def get_post_elo(home_team, home_team_elo, away_team, away_team_elo, point_diff, home_adv):\n",
    "    \n",
    "    if point_diff > 0:\n",
    "        FD = 1-get_win_prob(home_team_elo, away_team_elo, home_adv)\n",
    "    else: FD = 0 - get_win_prob(home_team_elo, away_team_elo, home_adv)\n",
    "    \n",
    "    home_post_elo = get_points(point_diff, home_team_elo, away_team_elo, home_adv)*FD  + home_team_elo\n",
    "    away_post_elo = away_team_elo + (home_team_elo - home_post_elo)\n",
    "    \n",
    "    my_dict[home_team] = home_post_elo\n",
    "    my_dict[away_team] = away_post_elo\n",
    "\n",
    "    return home_post_elo, away_post_elo\n",
    "    \n",
    "# Probability of winning of home team\n",
    "def get_win_prob(home_team_elo, away_team_elo, hfa):\n",
    "    home_team_elo += hfa\n",
    "    return 1.0/(1.0+(10.0**((away_team_elo-home_team_elo)/400)))\n",
    "\n",
    "def get_points(point_diff, team_elo, opp_elo, HFA):\n",
    "   \n",
    "    if point_diff > 0:\n",
    "        elo_dif = team_elo-opp_elo + HFA\n",
    "    else: elo_dif = - (team_elo-opp_elo + HFA)\n",
    "\n",
    "    return 20.0 * np.log(np.abs(point_diff)+1) * 2.2/(elo_dif*0.001+2.2)\n",
    "\n",
    "\n",
    "games_2009 = data538[data538['season']==2009]\n",
    "reg_season = games_2009[~np.isnan(games_2009.week)]\n",
    "\n",
    "for i in range(reg_season.shape[0]):\n",
    "\n",
    "    # Get Game Info\n",
    "    row = reg_season.iloc[i]\n",
    "    team = row.team1\n",
    "    opp = row.team2\n",
    "    point_diff = row.score1 - row.score2\n",
    "    \n",
    "    week = row.week\n",
    "    \n",
    "    if week == 1:\n",
    "        team_pre = 1505\n",
    "        opp_pre = 1505\n",
    "    else:\n",
    "        team_pre = my_dict[team]\n",
    "        opp_pre = my_dict[opp]\n",
    "      \n",
    "    g = get_post_elo(team, team_pre, opp, opp_pre, point_diff, h)\n",
    "\n",
    "print(my_dict)\n"
   ]
  },
  {
   "cell_type": "code",
   "execution_count": null,
   "metadata": {
    "collapsed": true
   },
   "outputs": [],
   "source": []
  }
 ],
 "metadata": {
  "kernelspec": {
   "display_name": "Python 3",
   "language": "python",
   "name": "python3"
  },
  "language_info": {
   "codemirror_mode": {
    "name": "ipython",
    "version": 3
   },
   "file_extension": ".py",
   "mimetype": "text/x-python",
   "name": "python",
   "nbconvert_exporter": "python",
   "pygments_lexer": "ipython3",
   "version": "3.6.1"
  }
 },
 "nbformat": 4,
 "nbformat_minor": 2
}
