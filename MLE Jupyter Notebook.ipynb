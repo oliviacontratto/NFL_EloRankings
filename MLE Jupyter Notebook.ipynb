{
 "cells": [
  {
   "cell_type": "code",
   "execution_count": 2,
   "metadata": {
    "slideshow": {
     "slide_type": "slide"
    }
   },
   "outputs": [
    {
     "name": "stdout",
     "output_type": "stream",
     "text": [
      "Enter season year: 2009\n",
      "['IND', 'SD', 'NO', 'DAL', 'GB', 'MIN', 'NE', 'BAL', 'NYJ', 'CIN', 'PHI', 'DEN', 'ARI', 'ATL', 'HOU', 'PIT', 'CAR', 'TEN', 'SF', 'NYG', 'MIA', 'BUF', 'JAC', 'CHI', 'OAK', 'SEA', 'CLE', 'TB', 'KC', 'WAS', 'DET', 'JAX', 'LA', 'LAC', 'STL']\n"
     ]
    }
   ],
   "source": [
    "from __future__ import division\n",
    "import numpy as np\n",
    "import nflgame\n",
    "import random\n",
    "\n",
    "class NflMaximumLikelihoodEstimator:\n",
    "\n",
    "    teams_array = ['ARI', 'ATL', 'BAL', 'BUF', 'CAR', 'CHI', 'CIN', 'CLE', 'DAL', 'DEN', 'DET', 'GB', 'HOU', 'IND', 'JAC', 'JAX', 'KC', 'LA', 'LAC', 'MIA', 'MIN', 'NE', 'NO', 'NYG', 'NYJ', 'OAK', 'PHI', 'PIT', 'SD', 'SEA', 'SF', 'STL', 'TB', 'TEN', 'WAS']\n",
    "\n",
    "    \"\"\"\n",
    "    current_weights: [0, ..., n]: n weights\n",
    "    games_matrix = w[i][j]: games i played against j\n",
    "    wins_array = [w_0, ..., w_n]: wins_array[i] = total wins by team i\n",
    "\n",
    "    Function:\n",
    "\n",
    "    R_a = (Number of Wins by A) / ( (Games A played against B) / (R_a + R_b) + ... + (Games A played against N) / (R_a + R_n))\n",
    "    \"\"\"\n",
    "    def optimization_function(self, current_weights, games_matrix, wins_array):\n",
    "        out = np.array([i for i in current_weights])\n",
    "        for i, curr_weight in enumerate(current_weights):\n",
    "            running_sum = 0\n",
    "            for j, opposing_weight in enumerate(current_weights):\n",
    "                if curr_weight + opposing_weight > 0:\n",
    "                    running_sum += games_matrix[i][j] / (curr_weight + opposing_weight)\n",
    "            if running_sum > 0:\n",
    "                out[i] = wins_array[i] / running_sum\n",
    "        return out\n",
    "\n",
    "\n",
    "    \"\"\"\n",
    "    Run numerical optimization on the above function until the weights stop changing.\n",
    "    \"\"\"\n",
    "    def iterate(self, games_matrix, wins_array, initial_weights=None):\n",
    "        if not initial_weights:\n",
    "            initial_weights = np.array([1.0] * len(wins_array))\n",
    "\n",
    "        current_weights = np.array([0.0] * len(wins_array))\n",
    "        next_weights = initial_weights\n",
    "        while not np.allclose(current_weights, next_weights):\n",
    "            current_weights, next_weights = next_weights, self.optimization_function(next_weights, games_matrix, wins_array)\n",
    "        return next_weights\n",
    "\n",
    "\n",
    "    def generate_matrices(self, season, weeks, kind=\"REG\"):\n",
    "        games = nflgame.games(season, week=weeks, kind=kind)\n",
    "        games_matrix = np.identity(len(self.teams_array))\n",
    "\n",
    "        team_index_map = {team : team_index for team_index, team in enumerate(self.teams_array)}\n",
    "        game_wins_dict = {}\n",
    "\n",
    "        for game in games:\n",
    "            if game.winner not in game_wins_dict:\n",
    "                game_wins_dict[game.winner] = 0\n",
    "            game_wins_dict[game.winner] += self.wins_update_formula(game)\n",
    "\n",
    "            games_matrix[team_index_map[game.winner]][team_index_map[game.loser]] += 1\n",
    "            games_matrix[team_index_map[game.loser]][team_index_map[game.winner]] += 1\n",
    "\n",
    "        wins_array = np.array([0] * len(self.teams_array))\n",
    "        for team in game_wins_dict:\n",
    "            wins_array[team_index_map[team]] = game_wins_dict[team]\n",
    "\n",
    "        return games_matrix, wins_array\n",
    "\n",
    "    def wins_update_formula(self, game):\n",
    "        score_difference = abs(game.score_away - game.score_home)\n",
    "        score_sum = game.score_away + game.score_home\n",
    "\n",
    "        return 0.6 + (0.4 * (score_difference / score_sum))\n",
    "\n",
    "    def generate_rankings(self, season, week):\n",
    "        games_matrix, wins_array = self.generate_matrices(season, week)\n",
    "        weights = self.iterate(games_matrix, wins_array)\n",
    "\n",
    "        return {team : weights[i] for i, team in enumerate(self.teams_array)}\n",
    "\n",
    "\n",
    "yr = input(\"Enter season year: \")\n",
    "yr = int(yr)\n",
    "\n",
    "def main():\n",
    "    w = NflMaximumLikelihoodEstimator()\n",
    "    inter_weights = w.generate_rankings(yr, [1,2,3,4,5,6,7,8,9,10,11,12,13,14,15,16,17])\n",
    "\n",
    "    #print(inter_weights)\n",
    "    print([x[0] for x in sorted(inter_weights.items(), key=lambda x: -x[1])])\n",
    "\n",
    "\n",
    "if __name__ == \"__main__\":\n",
    "    main()"
   ]
  }
 ],
 "metadata": {
  "kernelspec": {
   "display_name": "Python 3",
   "language": "python",
   "name": "python3"
  },
  "language_info": {
   "codemirror_mode": {
    "name": "ipython",
    "version": 3
   },
   "file_extension": ".py",
   "mimetype": "text/x-python",
   "name": "python",
   "nbconvert_exporter": "python",
   "pygments_lexer": "ipython3",
   "version": "3.6.1"
  }
 },
 "nbformat": 4,
 "nbformat_minor": 2
}
